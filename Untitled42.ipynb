{
  "nbformat": 4,
  "nbformat_minor": 0,
  "metadata": {
    "colab": {
      "name": "Untitled42.ipynb",
      "provenance": [],
      "authorship_tag": "ABX9TyP3s5M9FM40vEaa6XbVvuSE",
      "include_colab_link": true
    },
    "kernelspec": {
      "name": "python3",
      "display_name": "Python 3"
    },
    "language_info": {
      "name": "python"
    }
  },
  "cells": [
    {
      "cell_type": "markdown",
      "metadata": {
        "id": "view-in-github",
        "colab_type": "text"
      },
      "source": [
        "<a href=\"https://colab.research.google.com/github/sundonam/Kaggle/blob/main/Untitled42.ipynb\" target=\"_parent\"><img src=\"https://colab.research.google.com/assets/colab-badge.svg\" alt=\"Open In Colab\"/></a>"
      ]
    },
    {
      "cell_type": "code",
      "metadata": {
        "colab": {
          "base_uri": "https://localhost:8080/",
          "height": 394
        },
        "id": "J7VrkoEPeEbZ",
        "outputId": "614bb089-15d4-418c-e673-c2276d7ee963"
      },
      "source": [
        "import pandas as pd\n",
        "df = pd.read_csv('/train_service.csv')\n",
        "df.head()"
      ],
      "execution_count": null,
      "outputs": [
        {
          "output_type": "execute_result",
          "data": {
            "text/html": [
              "<div>\n",
              "<style scoped>\n",
              "    .dataframe tbody tr th:only-of-type {\n",
              "        vertical-align: middle;\n",
              "    }\n",
              "\n",
              "    .dataframe tbody tr th {\n",
              "        vertical-align: top;\n",
              "    }\n",
              "\n",
              "    .dataframe thead th {\n",
              "        text-align: right;\n",
              "    }\n",
              "</style>\n",
              "<table border=\"1\" class=\"dataframe\">\n",
              "  <thead>\n",
              "    <tr style=\"text-align: right;\">\n",
              "      <th></th>\n",
              "      <th>uno</th>\n",
              "      <th>registerdate</th>\n",
              "      <th>enddate</th>\n",
              "      <th>productcode</th>\n",
              "      <th>pgamount</th>\n",
              "      <th>chargetypeid</th>\n",
              "      <th>concurrentwatchcount</th>\n",
              "      <th>promo_100</th>\n",
              "      <th>coinReceived</th>\n",
              "      <th>Repurchase</th>\n",
              "      <th>devicetypeid</th>\n",
              "      <th>isauth</th>\n",
              "      <th>gender</th>\n",
              "      <th>agegroup</th>\n",
              "    </tr>\n",
              "  </thead>\n",
              "  <tbody>\n",
              "    <tr>\n",
              "      <th>0</th>\n",
              "      <td>b3d6846338d0e98b7e0fcf735c49271ff59df86bfd78f3...</td>\n",
              "      <td>2021-03-09 16:31:15</td>\n",
              "      <td>2021-04-09 16:31:15</td>\n",
              "      <td>pk_1487</td>\n",
              "      <td>7900.00</td>\n",
              "      <td>134</td>\n",
              "      <td>1</td>\n",
              "      <td>NaN</td>\n",
              "      <td>NaN</td>\n",
              "      <td>X</td>\n",
              "      <td>android</td>\n",
              "      <td>Y</td>\n",
              "      <td>F</td>\n",
              "      <td>45</td>\n",
              "    </tr>\n",
              "    <tr>\n",
              "      <th>1</th>\n",
              "      <td>4ec765db76545c1d6dda9f421590bf9d02f584009f8d92...</td>\n",
              "      <td>2021-03-09 14:33:07</td>\n",
              "      <td>2021-04-09 14:33:07</td>\n",
              "      <td>pk_1487</td>\n",
              "      <td>100.00</td>\n",
              "      <td>190</td>\n",
              "      <td>1</td>\n",
              "      <td>O</td>\n",
              "      <td>O</td>\n",
              "      <td>X</td>\n",
              "      <td>pc</td>\n",
              "      <td>Y</td>\n",
              "      <td>F</td>\n",
              "      <td>25</td>\n",
              "    </tr>\n",
              "    <tr>\n",
              "      <th>2</th>\n",
              "      <td>304cacae950e53952afebff0b212f5bfef6a5a0abb4c45...</td>\n",
              "      <td>2021-03-09 12:00:01</td>\n",
              "      <td>2021-04-09 12:00:01</td>\n",
              "      <td>pk_2026</td>\n",
              "      <td>10900.00</td>\n",
              "      <td>151</td>\n",
              "      <td>2</td>\n",
              "      <td>NaN</td>\n",
              "      <td>O</td>\n",
              "      <td>O</td>\n",
              "      <td>android</td>\n",
              "      <td>Y</td>\n",
              "      <td>F</td>\n",
              "      <td>35</td>\n",
              "    </tr>\n",
              "    <tr>\n",
              "      <th>3</th>\n",
              "      <td>4f86d917c53cb6bd8949f76dba7260311e8c1748748a02...</td>\n",
              "      <td>2021-03-09 22:23:12</td>\n",
              "      <td>2021-04-09 22:23:12</td>\n",
              "      <td>pk_1487</td>\n",
              "      <td>100.00</td>\n",
              "      <td>132</td>\n",
              "      <td>1</td>\n",
              "      <td>O</td>\n",
              "      <td>NaN</td>\n",
              "      <td>X</td>\n",
              "      <td>android</td>\n",
              "      <td>NaN</td>\n",
              "      <td>F</td>\n",
              "      <td>55</td>\n",
              "    </tr>\n",
              "    <tr>\n",
              "      <th>4</th>\n",
              "      <td>445fb8813626d3d49b94b5be58cd76d80ed31fa94f8372...</td>\n",
              "      <td>2021-03-09 10:32:36</td>\n",
              "      <td>2021-04-09 10:32:36</td>\n",
              "      <td>pk_1508</td>\n",
              "      <td>9.99</td>\n",
              "      <td>140</td>\n",
              "      <td>1</td>\n",
              "      <td>NaN</td>\n",
              "      <td>NaN</td>\n",
              "      <td>O</td>\n",
              "      <td>ios</td>\n",
              "      <td>NaN</td>\n",
              "      <td>NaN</td>\n",
              "      <td>40</td>\n",
              "    </tr>\n",
              "  </tbody>\n",
              "</table>\n",
              "</div>"
            ],
            "text/plain": [
              "                                                 uno  ... agegroup\n",
              "0  b3d6846338d0e98b7e0fcf735c49271ff59df86bfd78f3...  ...       45\n",
              "1  4ec765db76545c1d6dda9f421590bf9d02f584009f8d92...  ...       25\n",
              "2  304cacae950e53952afebff0b212f5bfef6a5a0abb4c45...  ...       35\n",
              "3  4f86d917c53cb6bd8949f76dba7260311e8c1748748a02...  ...       55\n",
              "4  445fb8813626d3d49b94b5be58cd76d80ed31fa94f8372...  ...       40\n",
              "\n",
              "[5 rows x 14 columns]"
            ]
          },
          "metadata": {
            "tags": []
          },
          "execution_count": 6
        }
      ]
    },
    {
      "cell_type": "code",
      "metadata": {
        "id": "kCtiPHTKeNC0"
      },
      "source": [
        "df2 = df.groupby(['uno', 'productcode'])['registerdate'].count()"
      ],
      "execution_count": null,
      "outputs": []
    },
    {
      "cell_type": "code",
      "metadata": {
        "colab": {
          "base_uri": "https://localhost:8080/"
        },
        "id": "qXzG--gjfeDK",
        "outputId": "e4cd154f-4f66-447e-bc60-c48aa7e17d23"
      },
      "source": [
        "df2.sort_values()"
      ],
      "execution_count": null,
      "outputs": [
        {
          "output_type": "execute_result",
          "data": {
            "text/plain": [
              "uno                                                                                                                               productcode\n",
              "0000555c21e7942b8281c8068c2b5be0a628b8a1a3cbea1c4d42a1ebb82206c2d0cf7ba1b15f367ffc97b7cf749ae6b0b3c46732f9fc0f5186ab6aa3e8346fdd  pk_1488        1\n",
              "aaafaf73b048e4dac21a61b72e767b42b3582808ee59a0a4c97ac265a557dac0c64154eefb6b11800f60c6cc92da2916af37cd7ec96868d65fdf817cd93e7b78  pk_1487        1\n",
              "aab047a570306107661f531f2b151d1d0c9a82cc0b173133499822d5ca74da518091607663bd4f9915076f614e07ac6d9ac474b11a71d4d05de0bffb0f2b2e0d  pk_1487        1\n",
              "aab1204d7cc18e35e3546022da1649f730afd8a023e8a4978cc2b471a1df30052c9c4829f4b5d229a5325d8b350292d8da8a269ce4f44bfef363443f483d448a  pk_1487        1\n",
              "aab231aa13deea7e7b83fb7ead78b374df5e39562d9778363939485c99665fcefd63904496d64aff199a843d2d642c274cbd93689ac6db1147c99ea9abc5aa73  pk_1489        1\n",
              "                                                                                                                                                ..\n",
              "21ec741899ff999740dcfa0543bfb3a41360c34e981ede69a7cc84ae61c491efbda82bc9c232520b8492c028cf7832bdd689110fb810d429b475fb08bec704aa  pk_1508        2\n",
              "b31c10e7354a7eb3b6316780993a1eaf6c4da9023af8462e9583cdc25dffea5aac33f0c47832c6095cff6515748df4b0502d4c048db479b72391d5f64b3b77ba  pk_1488        2\n",
              "6513fff57e32407ab087206e57186ee4cbde4888a5f79702f9caee7d23d008d30360c95fe000694668cd0c5fd557fb0e1a6d4473abbb18652a717ebf2d5c471e  pk_1488        3\n",
              "a02a14ff1ab86edbfe46ad5a6a7fce054dc83c39aa7c362622171c550dcfe7099733a95d986e379eedfcb8edb5adc79c3f2439a56104f63410b83a10131c8ea5  pk_1487        3\n",
              "                                                                                                                                  pk_1488        4\n",
              "Name: registerdate, Length: 69691, dtype: int64"
            ]
          },
          "metadata": {
            "tags": []
          },
          "execution_count": 20
        }
      ]
    },
    {
      "cell_type": "code",
      "metadata": {
        "colab": {
          "base_uri": "https://localhost:8080/"
        },
        "id": "nxTAqijIhdgl",
        "outputId": "1e8044f5-403b-4ce6-cc33-32491b19628b"
      },
      "source": [
        "df2.loc[df2.values > 1]"
      ],
      "execution_count": null,
      "outputs": [
        {
          "output_type": "execute_result",
          "data": {
            "text/plain": [
              "uno                                                                                                                               productcode\n",
              "04808008569b118d26fbec8e15915835a2a22dce22a05ca080f00f052f5474e0d37bf55650a8f30193a93ee5ff955b169fcfdacf0c0c1cd7b336c8e0db55151d  pk_1487        2\n",
              "21ec741899ff999740dcfa0543bfb3a41360c34e981ede69a7cc84ae61c491efbda82bc9c232520b8492c028cf7832bdd689110fb810d429b475fb08bec704aa  pk_1508        2\n",
              "51f0da418083182aecd6c8cc756185dbd3abaad11f242eadc01b5a5735806bf6d2e609d613c051ec30ae44c7ce54d87a5b50d24bbc922c38aa8a5bca70955ff2  pk_1487        2\n",
              "6513fff57e32407ab087206e57186ee4cbde4888a5f79702f9caee7d23d008d30360c95fe000694668cd0c5fd557fb0e1a6d4473abbb18652a717ebf2d5c471e  pk_1487        2\n",
              "                                                                                                                                  pk_1488        3\n",
              "6fad692b1b2d483fc2a0540dd4f6a69c8c2ce3554c51c5218a310e4505fe48ed9bf78a1383d1962cd7e1e5206e9e70e97045d406ab674af3577b203bb7e15b87  pk_1508        2\n",
              "7139c48d0999fc13e4b7497183832233041ab4fe78e49aa2d6fdbbb478658f920024e21fdae4577483d6c9afbba6f38ddb6e611a6776c6e44be73736546564be  pk_1489        2\n",
              "7ef5edee97e9561ebce1380fde2caf33a29e4e095ba693fdcf03985edda8ecf7b8c272f6139a09231d29d0b8f05a45ab922c064a219acf3cad57bb345b666cdd  pk_2025        2\n",
              "9f0e82544e63feb3fbd0eeb81c749932f9aa0be13d5082805cae93dadda5277be3bc4bbdc8af145edab5d890b53b4768e15d2358d58dfb76bb509ad430f732a2  pk_1506        2\n",
              "a0218892bc0315bc5a83ac264ab5efd8b90e1ad51b84ea8831c07bdee26f98deca7a33e5a3f56218df401f2763754e1ede70abac7e3dc74b49244a80854017dd  pk_1489        2\n",
              "a02a14ff1ab86edbfe46ad5a6a7fce054dc83c39aa7c362622171c550dcfe7099733a95d986e379eedfcb8edb5adc79c3f2439a56104f63410b83a10131c8ea5  pk_1487        3\n",
              "                                                                                                                                  pk_1488        4\n",
              "b31c10e7354a7eb3b6316780993a1eaf6c4da9023af8462e9583cdc25dffea5aac33f0c47832c6095cff6515748df4b0502d4c048db479b72391d5f64b3b77ba  pk_1488        2\n",
              "Name: registerdate, dtype: int64"
            ]
          },
          "metadata": {
            "tags": []
          },
          "execution_count": 21
        }
      ]
    }
  ]
}